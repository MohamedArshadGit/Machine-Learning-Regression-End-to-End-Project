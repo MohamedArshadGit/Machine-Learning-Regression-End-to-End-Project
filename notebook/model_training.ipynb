{
 "cells": [
  {
   "cell_type": "code",
   "execution_count": 35,
   "metadata": {},
   "outputs": [],
   "source": [
    "import numpy as np\n",
    "import pandas as pd\n",
    "import matplotlib.pyplot as plt\n",
    "import seaborn as sns\n",
    "\n",
    "from sklearn.linear_model import LinearRegression,Ridge,Lasso\n",
    "from sklearn.svm import SVR\n",
    "from sklearn.neighbors import KNeighborsRegressor\n",
    "from sklearn.tree import DecisionTreeRegressor\n",
    "from sklearn.ensemble import RandomForestRegressor,AdaBoostRegressor\n",
    "from catboost import CatBoostRegressor\n",
    "from xgboost import XGBRegressor\n",
    "from sklearn.metrics import mean_absolute_error,mean_squared_error,r2_score \n",
    "\n",
    "#r2_score is finding goodness of fit ,higher values(r2_score)=>better the fit\n",
    "#mean_absolute_error=>absolute means non-negative eg -5 is also 5 ,it measure the magnitude of the error without considering its direction.\n",
    "#MSE penalizes larger errors more than smaller errors because of the squaring operation.(MEANS WHOLE SQUARE)^2\n",
    "#RMSE is in the same unit as the target variable, making it more interpretable DUE TO SQUARE ROOT\n",
    "#MAE,MSE AND RMSE All should be LOWER VALUE,LOWER THE VALUE ,BETTER THE MODEL IT INDICATES\n",
    "\n",
    "#import rsme at the end\n",
    "\n",
    "import os\n",
    "\n",
    "import warnings\n",
    "warnings.filterwarnings('ignore')\n"
   ]
  },
  {
   "cell_type": "code",
   "execution_count": 36,
   "metadata": {},
   "outputs": [],
   "source": [
    "df=pd.read_csv(r'D:\\Project_1_krish_naik\\stud.csv')"
   ]
  },
  {
   "cell_type": "code",
   "execution_count": 37,
   "metadata": {},
   "outputs": [
    {
     "data": {
      "text/plain": [
       "'d:\\\\Project_1_krish_naik\\\\notebook'"
      ]
     },
     "execution_count": 37,
     "metadata": {},
     "output_type": "execute_result"
    }
   ],
   "source": [
    "os.getcwd() #to get current working directory"
   ]
  },
  {
   "cell_type": "code",
   "execution_count": 38,
   "metadata": {},
   "outputs": [],
   "source": [
    "#os.chdir(r'd:\\\\Project_1_krish_naik') #To change current working directory"
   ]
  },
  {
   "cell_type": "code",
   "execution_count": 39,
   "metadata": {},
   "outputs": [
    {
     "data": {
      "text/plain": [
       "'d:\\\\Project_1_krish_naik\\\\notebook'"
      ]
     },
     "execution_count": 39,
     "metadata": {},
     "output_type": "execute_result"
    }
   ],
   "source": [
    "os.getcwd()"
   ]
  },
  {
   "cell_type": "code",
   "execution_count": 40,
   "metadata": {},
   "outputs": [
    {
     "data": {
      "text/html": [
       "<div>\n",
       "<style scoped>\n",
       "    .dataframe tbody tr th:only-of-type {\n",
       "        vertical-align: middle;\n",
       "    }\n",
       "\n",
       "    .dataframe tbody tr th {\n",
       "        vertical-align: top;\n",
       "    }\n",
       "\n",
       "    .dataframe thead th {\n",
       "        text-align: right;\n",
       "    }\n",
       "</style>\n",
       "<table border=\"1\" class=\"dataframe\">\n",
       "  <thead>\n",
       "    <tr style=\"text-align: right;\">\n",
       "      <th></th>\n",
       "      <th>gender</th>\n",
       "      <th>race_ethnicity</th>\n",
       "      <th>parental_level_of_education</th>\n",
       "      <th>lunch</th>\n",
       "      <th>test_preparation_course</th>\n",
       "      <th>math_score</th>\n",
       "      <th>reading_score</th>\n",
       "      <th>writing_score</th>\n",
       "    </tr>\n",
       "  </thead>\n",
       "  <tbody>\n",
       "    <tr>\n",
       "      <th>861</th>\n",
       "      <td>female</td>\n",
       "      <td>group E</td>\n",
       "      <td>master's degree</td>\n",
       "      <td>free/reduced</td>\n",
       "      <td>none</td>\n",
       "      <td>81</td>\n",
       "      <td>86</td>\n",
       "      <td>87</td>\n",
       "    </tr>\n",
       "    <tr>\n",
       "      <th>494</th>\n",
       "      <td>female</td>\n",
       "      <td>group B</td>\n",
       "      <td>high school</td>\n",
       "      <td>standard</td>\n",
       "      <td>none</td>\n",
       "      <td>54</td>\n",
       "      <td>64</td>\n",
       "      <td>68</td>\n",
       "    </tr>\n",
       "  </tbody>\n",
       "</table>\n",
       "</div>"
      ],
      "text/plain": [
       "     gender race_ethnicity parental_level_of_education         lunch  \\\n",
       "861  female        group E             master's degree  free/reduced   \n",
       "494  female        group B                 high school      standard   \n",
       "\n",
       "    test_preparation_course  math_score  reading_score  writing_score  \n",
       "861                    none          81             86             87  \n",
       "494                    none          54             64             68  "
      ]
     },
     "execution_count": 40,
     "metadata": {},
     "output_type": "execute_result"
    }
   ],
   "source": [
    "df.sample(2)"
   ]
  },
  {
   "cell_type": "code",
   "execution_count": 41,
   "metadata": {},
   "outputs": [
    {
     "name": "stdout",
     "output_type": "stream",
     "text": [
      "<class 'pandas.core.frame.DataFrame'>\n",
      "RangeIndex: 1000 entries, 0 to 999\n",
      "Data columns (total 8 columns):\n",
      " #   Column                       Non-Null Count  Dtype \n",
      "---  ------                       --------------  ----- \n",
      " 0   gender                       1000 non-null   object\n",
      " 1   race_ethnicity               1000 non-null   object\n",
      " 2   parental_level_of_education  1000 non-null   object\n",
      " 3   lunch                        1000 non-null   object\n",
      " 4   test_preparation_course      1000 non-null   object\n",
      " 5   math_score                   1000 non-null   int64 \n",
      " 6   reading_score                1000 non-null   int64 \n",
      " 7   writing_score                1000 non-null   int64 \n",
      "dtypes: int64(3), object(5)\n",
      "memory usage: 62.6+ KB\n"
     ]
    }
   ],
   "source": [
    "df.info()"
   ]
  },
  {
   "cell_type": "markdown",
   "metadata": {},
   "source": [
    "* #### Preparing Independent and Target Variables"
   ]
  },
  {
   "cell_type": "markdown",
   "metadata": {},
   "source": [
    "##### Independent Variable"
   ]
  },
  {
   "cell_type": "code",
   "execution_count": 42,
   "metadata": {},
   "outputs": [],
   "source": [
    "df1=df.copy()"
   ]
  },
  {
   "cell_type": "code",
   "execution_count": 43,
   "metadata": {},
   "outputs": [
    {
     "data": {
      "text/html": [
       "<div>\n",
       "<style scoped>\n",
       "    .dataframe tbody tr th:only-of-type {\n",
       "        vertical-align: middle;\n",
       "    }\n",
       "\n",
       "    .dataframe tbody tr th {\n",
       "        vertical-align: top;\n",
       "    }\n",
       "\n",
       "    .dataframe thead th {\n",
       "        text-align: right;\n",
       "    }\n",
       "</style>\n",
       "<table border=\"1\" class=\"dataframe\">\n",
       "  <thead>\n",
       "    <tr style=\"text-align: right;\">\n",
       "      <th></th>\n",
       "      <th>gender</th>\n",
       "      <th>race_ethnicity</th>\n",
       "      <th>parental_level_of_education</th>\n",
       "      <th>lunch</th>\n",
       "      <th>test_preparation_course</th>\n",
       "      <th>math_score</th>\n",
       "      <th>reading_score</th>\n",
       "      <th>writing_score</th>\n",
       "    </tr>\n",
       "  </thead>\n",
       "  <tbody>\n",
       "    <tr>\n",
       "      <th>228</th>\n",
       "      <td>male</td>\n",
       "      <td>group A</td>\n",
       "      <td>some high school</td>\n",
       "      <td>free/reduced</td>\n",
       "      <td>none</td>\n",
       "      <td>68</td>\n",
       "      <td>72</td>\n",
       "      <td>64</td>\n",
       "    </tr>\n",
       "  </tbody>\n",
       "</table>\n",
       "</div>"
      ],
      "text/plain": [
       "    gender race_ethnicity parental_level_of_education         lunch  \\\n",
       "228   male        group A            some high school  free/reduced   \n",
       "\n",
       "    test_preparation_course  math_score  reading_score  writing_score  \n",
       "228                    none          68             72             64  "
      ]
     },
     "execution_count": 43,
     "metadata": {},
     "output_type": "execute_result"
    }
   ],
   "source": [
    "df1.sample()"
   ]
  },
  {
   "cell_type": "code",
   "execution_count": 44,
   "metadata": {},
   "outputs": [],
   "source": [
    "#Preparing Independent Variable\n",
    "df1.drop(columns='math_score',axis=1,inplace=True) #axis=1 means columns ,axis =0 means row or index\n",
    "#mention inplace=True ,Defaulty inplace will be false"
   ]
  },
  {
   "cell_type": "code",
   "execution_count": 45,
   "metadata": {},
   "outputs": [
    {
     "data": {
      "text/html": [
       "<div>\n",
       "<style scoped>\n",
       "    .dataframe tbody tr th:only-of-type {\n",
       "        vertical-align: middle;\n",
       "    }\n",
       "\n",
       "    .dataframe tbody tr th {\n",
       "        vertical-align: top;\n",
       "    }\n",
       "\n",
       "    .dataframe thead th {\n",
       "        text-align: right;\n",
       "    }\n",
       "</style>\n",
       "<table border=\"1\" class=\"dataframe\">\n",
       "  <thead>\n",
       "    <tr style=\"text-align: right;\">\n",
       "      <th></th>\n",
       "      <th>gender</th>\n",
       "      <th>race_ethnicity</th>\n",
       "      <th>parental_level_of_education</th>\n",
       "      <th>lunch</th>\n",
       "      <th>test_preparation_course</th>\n",
       "      <th>reading_score</th>\n",
       "      <th>writing_score</th>\n",
       "    </tr>\n",
       "  </thead>\n",
       "  <tbody>\n",
       "    <tr>\n",
       "      <th>393</th>\n",
       "      <td>male</td>\n",
       "      <td>group C</td>\n",
       "      <td>associate's degree</td>\n",
       "      <td>standard</td>\n",
       "      <td>completed</td>\n",
       "      <td>54</td>\n",
       "      <td>56</td>\n",
       "    </tr>\n",
       "  </tbody>\n",
       "</table>\n",
       "</div>"
      ],
      "text/plain": [
       "    gender race_ethnicity parental_level_of_education     lunch  \\\n",
       "393   male        group C          associate's degree  standard   \n",
       "\n",
       "    test_preparation_course  reading_score  writing_score  \n",
       "393               completed             54             56  "
      ]
     },
     "execution_count": 45,
     "metadata": {},
     "output_type": "execute_result"
    }
   ],
   "source": [
    "#Independent Variable\n",
    "X=df1\n",
    "X.sample()"
   ]
  },
  {
   "cell_type": "code",
   "execution_count": 46,
   "metadata": {},
   "outputs": [
    {
     "name": "stdout",
     "output_type": "stream",
     "text": [
      "<class 'pandas.core.frame.DataFrame'>\n",
      "RangeIndex: 1000 entries, 0 to 999\n",
      "Data columns (total 7 columns):\n",
      " #   Column                       Non-Null Count  Dtype \n",
      "---  ------                       --------------  ----- \n",
      " 0   gender                       1000 non-null   object\n",
      " 1   race_ethnicity               1000 non-null   object\n",
      " 2   parental_level_of_education  1000 non-null   object\n",
      " 3   lunch                        1000 non-null   object\n",
      " 4   test_preparation_course      1000 non-null   object\n",
      " 5   reading_score                1000 non-null   int64 \n",
      " 6   writing_score                1000 non-null   int64 \n",
      "dtypes: int64(2), object(5)\n",
      "memory usage: 54.8+ KB\n",
      "None\n"
     ]
    }
   ],
   "source": [
    "print(X.info())"
   ]
  },
  {
   "cell_type": "markdown",
   "metadata": {},
   "source": [
    "##### Target Variable"
   ]
  },
  {
   "cell_type": "code",
   "execution_count": 47,
   "metadata": {},
   "outputs": [],
   "source": [
    "df2=df.copy()"
   ]
  },
  {
   "cell_type": "code",
   "execution_count": 48,
   "metadata": {},
   "outputs": [],
   "source": [
    "#To drop all columns in a DataFrame except one column using the drop method in pandas\n",
    "#IMPORTANT\n",
    "\n",
    "target_col='math_score' # Specify the column you want to keep\n",
    "df2=df2.drop(columns=df2.columns.difference([target_col])) # Drop all columns except the specified one"
   ]
  },
  {
   "cell_type": "code",
   "execution_count": 49,
   "metadata": {},
   "outputs": [
    {
     "data": {
      "text/html": [
       "<div>\n",
       "<style scoped>\n",
       "    .dataframe tbody tr th:only-of-type {\n",
       "        vertical-align: middle;\n",
       "    }\n",
       "\n",
       "    .dataframe tbody tr th {\n",
       "        vertical-align: top;\n",
       "    }\n",
       "\n",
       "    .dataframe thead th {\n",
       "        text-align: right;\n",
       "    }\n",
       "</style>\n",
       "<table border=\"1\" class=\"dataframe\">\n",
       "  <thead>\n",
       "    <tr style=\"text-align: right;\">\n",
       "      <th></th>\n",
       "      <th>math_score</th>\n",
       "    </tr>\n",
       "  </thead>\n",
       "  <tbody>\n",
       "    <tr>\n",
       "      <th>167</th>\n",
       "      <td>58</td>\n",
       "    </tr>\n",
       "  </tbody>\n",
       "</table>\n",
       "</div>"
      ],
      "text/plain": [
       "     math_score\n",
       "167          58"
      ]
     },
     "execution_count": 49,
     "metadata": {},
     "output_type": "execute_result"
    }
   ],
   "source": [
    "\n",
    "Y=df2\n",
    "Y.sample()"
   ]
  },
  {
   "cell_type": "code",
   "execution_count": 50,
   "metadata": {},
   "outputs": [
    {
     "name": "stdout",
     "output_type": "stream",
     "text": [
      "<class 'pandas.core.frame.DataFrame'>\n",
      "RangeIndex: 1000 entries, 0 to 999\n",
      "Data columns (total 1 columns):\n",
      " #   Column      Non-Null Count  Dtype\n",
      "---  ------      --------------  -----\n",
      " 0   math_score  1000 non-null   int64\n",
      "dtypes: int64(1)\n",
      "memory usage: 7.9 KB\n",
      "None\n"
     ]
    }
   ],
   "source": [
    "print(Y.info())"
   ]
  },
  {
   "cell_type": "code",
   "execution_count": 51,
   "metadata": {},
   "outputs": [
    {
     "name": "stdout",
     "output_type": "stream",
     "text": [
      "column_name:\n",
      "gender:['female' 'male']  No:2\n",
      "column_name:\n",
      "race_ethnicity:['group B' 'group C' 'group A' 'group D' 'group E']  No:5\n",
      "column_name:\n",
      "parental_level_of_education:[\"bachelor's degree\" 'some college' \"master's degree\" \"associate's degree\"\n",
      " 'high school' 'some high school']  No:6\n",
      "column_name:\n",
      "lunch:['standard' 'free/reduced']  No:2\n",
      "column_name:\n",
      "test_preparation_course:['none' 'completed']  No:2\n",
      "column_name:\n",
      "reading_score:[ 72  90  95  57  78  83  43  64  60  54  52  81  53  75  89  32  42  58\n",
      "  69  73  71  74  70  65  87  56  61  84  55  44  41  85  59  17  39  80\n",
      "  37  63  51  49  26  68  45  47  86  34  79  66  67  91 100  76  77  82\n",
      "  92  93  62  88  50  28  48  46  23  38  94  97  99  31  96  24  29  40]  No:72\n",
      "column_name:\n",
      "writing_score:[ 74  88  93  44  75  78  92  39  67  50  52  43  73  70  58  86  28  46\n",
      "  61  63  53  80  72  55  65  38  82  79  83  59  57  54  68  66  62  76\n",
      "  48  42  87  49  10  34  71  37  56  41  22  81  45  36  89  47  90 100\n",
      "  64  98  51  40  84  69  33  60  85  91  77  27  94  95  19  35  32  96\n",
      "  97  99  15  30  23]  No:77\n"
     ]
    }
   ],
   "source": [
    "for columns in df1.columns:\n",
    "    how_many_cat=df1[columns].unique()\n",
    "    n_categories=df1[columns].nunique()\n",
    "    print(f\"column_name:\\n{columns}:{how_many_cat}  No:{n_categories}\")\n",
    "    "
   ]
  },
  {
   "cell_type": "code",
   "execution_count": 52,
   "metadata": {},
   "outputs": [],
   "source": [
    "# #Splitting into categorical and numerical features\n",
    "# cat_features=[]\n",
    "# for column in df1.columns:\n",
    "#     if df1[column].dtype == 'O':\n",
    "#         print(\"categorical:\",column)\n"
   ]
  },
  {
   "cell_type": "code",
   "execution_count": 53,
   "metadata": {},
   "outputs": [],
   "source": [
    "# num_features=X.select_dtypes(exclude='object').columns\n",
    "# cat_featues=X.select_dtypes(include='object').columns"
   ]
  },
  {
   "cell_type": "code",
   "execution_count": 54,
   "metadata": {},
   "outputs": [],
   "source": [
    "# num_features = X.select_dtypes(exclude=\"object\").columns\n",
    "# cat_features = X.select_dtypes(include=\"object\").columns\n",
    "# print(num_features)\n",
    "# for col in num_features:\n",
    "#     print(col)\n"
   ]
  },
  {
   "cell_type": "code",
   "execution_count": 55,
   "metadata": {},
   "outputs": [],
   "source": [
    "#Achieve the above cell code same using loop\n",
    "num_feature=[]\n",
    "cat_feature=[]\n",
    "for column in df1.columns:\n",
    "    if df1[column].dtype != 'O':\n",
    "        num_feature.append(column)\n",
    "    elif df1[column].dtype == 'O':\n",
    "        cat_feature.append(column)\n",
    "        "
   ]
  },
  {
   "cell_type": "code",
   "execution_count": 56,
   "metadata": {},
   "outputs": [
    {
     "name": "stdout",
     "output_type": "stream",
     "text": [
      "['reading_score', 'writing_score']\n",
      "['gender', 'race_ethnicity', 'parental_level_of_education', 'lunch', 'test_preparation_course']\n"
     ]
    }
   ],
   "source": [
    "print(num_feature)\n",
    "print(cat_feature)"
   ]
  },
  {
   "cell_type": "markdown",
   "metadata": {},
   "source": [
    "* #### Difference between \n",
    "* num_features = X.select_dtypes(exclude=\"object\").columns\n",
    "* cat_features = X.select_dtypes(include=\"object\").columns\n",
    "\n",
    "#### (vs)\n",
    "\n",
    "* num_feature=[]\n",
    "* cat_feature=[]\n",
    "* for column in df1.columns:\n",
    "    if df1[column].dtype != 'O':\n",
    "        num_feature.append(column)\n",
    "    elif df1[column].dtype == 'O':\n",
    "        cat_feature.append(column)\n",
    "\n",
    "\n",
    "The two approaches you provided achieve the same goal of separating numerical and categorical features in a DataFrame, but they use different methods to do so.\n",
    "\n",
    "Using select_dtypes method:\n",
    "num_features = X.select_dtypes(exclude=\"object\").columns selects columns of numeric data type (exclude=\"object\").\n",
    "cat_features = X.select_dtypes(include=\"object\").columns selects columns of object data type (include=\"object\").\n",
    "This method utilizes the select_dtypes method provided by pandas to directly filter columns based on their data types.\n",
    "\n",
    "\n",
    "Looping through DataFrame columns:\n",
    "num_feature and cat_feature are initialized as empty lists.\n",
    "\n",
    "The loop iterates through each column in the DataFrame (for column in df1.columns).\n",
    "For each column, it checks its data type (df1[column].dtype) and appends the column name to either num_feature or cat_feature based on whether it's numeric or categorical.\n",
    "This method manually inspects each column's data type and categorizes them accordingly.\n",
    "Differences:\n",
    "\n",
    "* The first method is more concise and relies on built-in pandas functionality (select_dtypes) to directly filter columns based on their data types.\n",
    "\n",
    "\n",
    "The second method provides more control and flexibility, allowing for custom logic to be applied when categorizing columns. It can be useful if you need to apply more complex rules or if you're working in an environment where direct pandas methods might not be available or suitable.\n",
    "\n",
    "\n",
    "In summary, both methods achieve the same result, but they offer different levels of simplicity and flexibility in how you separate numerical and categorical features in a DataFrame.\n",
    "\n",
    "\n",
    "\n",
    "\n",
    "\n"
   ]
  },
  {
   "cell_type": "code",
   "execution_count": 57,
   "metadata": {},
   "outputs": [],
   "source": [
    "from sklearn.preprocessing import OneHotEncoder,StandardScaler\n",
    "from sklearn.compose import ColumnTransformer\n"
   ]
  },
  {
   "cell_type": "code",
   "execution_count": 58,
   "metadata": {},
   "outputs": [],
   "source": [
    "numeric_transformer =StandardScaler()\n",
    "OneHot_Transformer= OneHotEncoder()\n",
    "\n",
    "Preprocessor= ColumnTransformer(\n",
    "    [\n",
    "        ('OneHotEncoder',OneHot_Transformer,cat_feature),\n",
    "        ('StandardScaler',numeric_transformer,num_feature)\n",
    "    ]\n",
    ")\n",
    "\n",
    "# ColumnTransformer Configuration: The ColumnTransformer is configured with a list of tuples, each specifying a transformation to be applied to a subset of columns in the input data.\n",
    "# Each tuple contains:\n",
    "\n",
    "# A name for the transformation (e.g., 'OneHotEncoder', 'StandardScaler').\n",
    "\n",
    "# The transformer instance to apply.\n",
    "\n",
    "# The list of column names to which the transformation should be applied.\n"
   ]
  },
  {
   "cell_type": "code",
   "execution_count": 59,
   "metadata": {},
   "outputs": [],
   "source": [
    "X= Preprocessor.fit_transform(X) #this code will apply one-hot encoding to the columns specified in cat_feature using OneHotEncoder, and it will scale the columns specified in num_feature using StandardScaler at the same time "
   ]
  },
  {
   "cell_type": "code",
   "execution_count": 60,
   "metadata": {},
   "outputs": [
    {
     "data": {
      "text/plain": [
       "(1000, 19)"
      ]
     },
     "execution_count": 60,
     "metadata": {},
     "output_type": "execute_result"
    }
   ],
   "source": [
    "X.shape"
   ]
  },
  {
   "cell_type": "markdown",
   "metadata": {},
   "source": [
    "* ### num_feature and cat_feature has only Names How it works?\n",
    "So, even though num_feature and cat_feature only store column names, the ColumnTransformer uses this information to apply the appropriate transformations to the corresponding columns of the input data, resulting in the transformed data with the correct shape.\n",
    "How this happens?\n",
    "\n",
    "The ColumnTransformer uses the column names provided in num_feature and cat_feature to identify which columns in the input data correspond to numerical and categorical features, respectively.\n",
    "\n",
    "Here's how the process works step by step:\n",
    "\n",
    "Initialization:\n",
    "You define two transformers: numeric_transformer and OneHot_Transformer.\n",
    "Configuration:\n",
    "You create a ColumnTransformer named Preprocessor, specifying two transformations:\n",
    "'OneHotEncoder': It will be applied to columns specified in cat_feature.\n",
    "'StandardScaler': It will be applied to columns specified in num_feature.\n",
    "Fit and Transform:\n",
    "When you call Preprocessor.fit_transform(X), ColumnTransformer:\n",
    "* \"\"\"Automatically identifies the columns in 'X' that correspond to the column names specified in num_feature and cat_feature.\"\"\"\n",
    "\n",
    "\n",
    "Applies the appropriate transformation to each subset of columns.\n",
    "Concatenates the transformed data to produce the final transformed array X_transformed.\n",
    "* \"\"\"The key here is that ColumnTransformer internally maps the column names provided in num_feature and cat_feature to the columns in the input data X.\"\"\"\n",
    "\n",
    "\n",
    " This mapping allows it to apply the specified transformations to the correct subsets of columns, resulting in the transformed data with the correct shape.\n",
    "\n",
    "So, even though num_feature and cat_feature store only column names, they serve as instructions for ColumnTransformer to properly preprocess the data based on the types of features specified."
   ]
  },
  {
   "cell_type": "code",
   "execution_count": 61,
   "metadata": {},
   "outputs": [],
   "source": [
    "from sklearn.model_selection import train_test_split\n",
    "\n",
    "x_train,x_test,y_train,y_test = train_test_split(X,Y,test_size=0.2,random_state=42)\n"
   ]
  },
  {
   "cell_type": "code",
   "execution_count": 62,
   "metadata": {},
   "outputs": [
    {
     "name": "stdout",
     "output_type": "stream",
     "text": [
      "(800, 19) (800, 1)\n",
      "(200, 19) (200, 1)\n"
     ]
    }
   ],
   "source": [
    "print(x_train.shape,y_train.shape)\n",
    "print(x_test.shape,y_test.shape)\n"
   ]
  },
  {
   "cell_type": "markdown",
   "metadata": {},
   "source": [
    "* ##### Create an Evaluation Function to give all metrics after model training"
   ]
  },
  {
   "cell_type": "code",
   "execution_count": 63,
   "metadata": {},
   "outputs": [],
   "source": [
    "def evaluate_model(true,predicted):\n",
    "    mae =mean_absolute_error(true,predicted)\n",
    "    mse=mean_squared_error(true,predicted)\n",
    "    rmse=np.sqrt(mean_squared_error(true,predicted))\n",
    "    r_square= r2_score(true,predicted)\n",
    "    \n",
    "    return mae,mse,rmse,r_square"
   ]
  },
  {
   "cell_type": "code",
   "execution_count": 64,
   "metadata": {},
   "outputs": [],
   "source": [
    "from sklearn.linear_model import LinearRegression,Ridge,Lasso\n",
    "from sklearn.svm import SVR\n",
    "from sklearn.neighbors import KNeighborsRegressor\n",
    "from sklearn.tree import DecisionTreeRegressor\n",
    "from sklearn.ensemble import RandomForestRegressor,AdaBoostRegressor\n",
    "from catboost import CatBoostRegressor\n",
    "from xgboost import XGBRegressor"
   ]
  },
  {
   "cell_type": "code",
   "execution_count": 65,
   "metadata": {},
   "outputs": [
    {
     "name": "stdout",
     "output_type": "stream",
     "text": [
      "Model_Name: linear_Regression\n",
      "Model performance of TRAINING set\n",
      "mae: 4.2671\n",
      " mse: 28.3485\n",
      " rmse: 5.3243\n",
      " \n",
      " r2_score: 87.43\n",
      "\n",
      "=========================\n",
      "Model performance of TESTING set\n",
      "mae: 4.2158\n",
      " mse: 29.1167\n",
      " rmse: 5.3960\n",
      " \n",
      " r2_score: 88.03\n",
      "\n",
      "====================================================================================================\n",
      "Model_Name: Rigde\n",
      "Model performance of TRAINING set\n",
      "mae: 4.2650\n",
      " mse: 28.3378\n",
      " rmse: 5.3233\n",
      " \n",
      " r2_score: 87.43\n",
      "\n",
      "=========================\n",
      "Model performance of TESTING set\n",
      "mae: 4.2111\n",
      " mse: 29.0563\n",
      " rmse: 5.3904\n",
      " \n",
      " r2_score: 88.06\n",
      "\n",
      "====================================================================================================\n",
      "Model_Name: Lasso\n",
      "Model performance of TRAINING set\n",
      "mae: 5.2063\n",
      " mse: 43.4784\n",
      " rmse: 6.5938\n",
      " \n",
      " r2_score: 80.71\n",
      "\n",
      "=========================\n",
      "Model performance of TESTING set\n",
      "mae: 5.1579\n",
      " mse: 42.5064\n",
      " rmse: 6.5197\n",
      " \n",
      " r2_score: 82.53\n",
      "\n",
      "====================================================================================================\n",
      "Model_Name: support_vector_machine\n",
      "Model performance of TRAINING set\n",
      "mae: 4.8692\n",
      " mse: 43.2570\n",
      " rmse: 6.5770\n",
      " \n",
      " r2_score: 80.81\n",
      "\n",
      "=========================\n",
      "Model performance of TESTING set\n",
      "mae: 5.4015\n",
      " mse: 66.0420\n",
      " rmse: 8.1266\n",
      " \n",
      " r2_score: 72.86\n",
      "\n",
      "====================================================================================================\n",
      "Model_Name: Kneighbours_Regressor\n",
      "Model performance of TRAINING set\n",
      "mae: 4.5167\n",
      " mse: 32.5776\n",
      " rmse: 5.7077\n",
      " \n",
      " r2_score: 85.55\n",
      "\n",
      "=========================\n",
      "Model performance of TESTING set\n",
      "mae: 5.6210\n",
      " mse: 52.6066\n",
      " rmse: 7.2530\n",
      " \n",
      " r2_score: 78.38\n",
      "\n",
      "====================================================================================================\n",
      "Model_Name: DecisionTreeRegressor\n",
      "Model performance of TRAINING set\n",
      "mae: 0.0187\n",
      " mse: 0.0781\n",
      " rmse: 0.2795\n",
      " \n",
      " r2_score: 99.97\n",
      "\n",
      "=========================\n",
      "Model performance of TESTING set\n",
      "mae: 5.9250\n",
      " mse: 56.8950\n",
      " rmse: 7.5429\n",
      " \n",
      " r2_score: 76.62\n",
      "\n",
      "====================================================================================================\n",
      "Model_Name: RandomForestRegressor\n",
      "Model performance of TRAINING set\n",
      "mae: 1.8183\n",
      " mse: 5.2248\n",
      " rmse: 2.2858\n",
      " \n",
      " r2_score: 97.68\n",
      "\n",
      "=========================\n",
      "Model performance of TESTING set\n",
      "mae: 4.6174\n",
      " mse: 36.0850\n",
      " rmse: 6.0071\n",
      " \n",
      " r2_score: 85.17\n",
      "\n",
      "====================================================================================================\n",
      "Model_Name: AdaBoostRegressor\n",
      "Model performance of TRAINING set\n",
      "mae: 4.7733\n",
      " mse: 34.1481\n",
      " rmse: 5.8436\n",
      " \n",
      " r2_score: 84.85\n",
      "\n",
      "=========================\n",
      "Model performance of TESTING set\n",
      "mae: 4.7035\n",
      " mse: 36.9944\n",
      " rmse: 6.0823\n",
      " \n",
      " r2_score: 84.80\n",
      "\n",
      "====================================================================================================\n",
      "Model_Name: catboost\n",
      "Model performance of TRAINING set\n",
      "mae: 2.4054\n",
      " mse: 9.2578\n",
      " rmse: 3.0427\n",
      " \n",
      " r2_score: 95.89\n",
      "\n",
      "=========================\n",
      "Model performance of TESTING set\n",
      "mae: 4.6125\n",
      " mse: 36.1037\n",
      " rmse: 6.0086\n",
      " \n",
      " r2_score: 85.16\n",
      "\n",
      "====================================================================================================\n",
      "Model_Name: xgboost\n",
      "Model performance of TRAINING set\n",
      "mae: 0.6875\n",
      " mse: 1.0146\n",
      " rmse: 1.0073\n",
      " \n",
      " r2_score: 99.55\n",
      "\n",
      "=========================\n",
      "Model performance of TESTING set\n",
      "mae: 5.0577\n",
      " mse: 41.9037\n",
      " rmse: 6.4733\n",
      " \n",
      " r2_score: 82.78\n",
      "\n",
      "====================================================================================================\n"
     ]
    }
   ],
   "source": [
    "models={\n",
    "    \"linear_Regression\":LinearRegression(),\n",
    "    \"Rigde\":Ridge(),\n",
    "    \"Lasso\":Lasso(),\n",
    "    \"support_vector_machine\":SVR(),\n",
    "    \"Kneighbours_Regressor\":KNeighborsRegressor(),\n",
    "    \"DecisionTreeRegressor\":DecisionTreeRegressor(),\n",
    "    \"RandomForestRegressor\":RandomForestRegressor(),\n",
    "    \"AdaBoostRegressor\":AdaBoostRegressor(),\n",
    "    \"catboost\":CatBoostRegressor(verbose=False),#why we are using verbose=False because catboostregressor will show training log messages.So to supress the output where it piles lot of logs we set verbose to false\n",
    "    \"xgboost\":XGBRegressor()\n",
    "}\n",
    "\n",
    "model_list=[]\n",
    "r2_list=[]\n",
    "\n",
    "for i in range(len(list(models))):\n",
    "    model=list(models.values())[i] #Note this line if we put like model=list(models.values()[i]) it will throws TypeError: 'dict_values' object is not subscriptable\n",
    "    model.fit(x_train,y_train) #Train the Model\n",
    "    \n",
    "    #Make Predictions:\n",
    "    y_train_pred=model.predict(x_train)\n",
    "    y_test_pred=model.predict(x_test)\n",
    "    \n",
    "    #Evaluate Train and test dataset\n",
    "    train_mae,train_mse,train_rmse,train_r2_score =evaluate_model(y_train,y_train_pred)\n",
    "    test_mae,test_mse,test_rmse,test_r2_score = evaluate_model(y_test,y_test_pred)\n",
    "    \n",
    "    keys =list(models.keys())[i]#Note this line if we put like model=list(models.keys()[i]) it will throws TypeError: 'dict_keys' object is not subscriptable\n",
    "    print(\"Model_Name:\",keys)\n",
    "    model_list.append(keys)\n",
    "    \n",
    "    print(\"Model performance of TRAINING set\")\n",
    "    \n",
    "    #print(f\"mae:{train_mae}\\n mse:{train_mse}\\n rmse:{train_rmse}\\n \\n r2_score:{train_r2_score}\\n \")\n",
    "    #print(\"mae:{:.3f}\\n mse:{:.4f}\\n rmse:{:.4f}\\n \\n r2_score:{:.4f}\\n\".format(train_mae,train_mse,train_rmse,train_r2_score))\n",
    "    \n",
    "    print(f\"mae: {train_mae:.4f}\\n mse: {train_mse:.4f}\\n rmse: {train_rmse:.4f}\\n \\n r2_score: {train_r2_score*100:.2f}\\n\") #here *100 is used to display r2_score as 85 instead of 0.85 \n",
    "    #refer below what is :.4f=>PRECISION POINTER\n",
    "    \n",
    "    print(\"=\"*25) #is using the '*' operator to create a string consisting of 35 equals signs (=) concatenated together. \n",
    "    #This is a shorthand way to create a string containing a repeated character multiple times.\n",
    "    \n",
    "    print(\"Model performance of TESTING set\")\n",
    "    \n",
    "    #print(f\"mae:{test_mae}\\n mse:{test_mse}\\n rmse:{test_rmse}\\n \\n r2_score:{test_r2_score}\\n \")\n",
    "    #print(\"mae:{:.4f}\\n mse:{:.4f}\\n rmse:{:.4f}\\n \\n r2_score:{:.2f}\\n\".format(test_mae,test_mse,test_rmse,test_r2_score))\n",
    "    \n",
    "    print(f\"mae: {test_mae:.4f}\\n mse: {test_mse:.4f}\\n rmse: {test_rmse:.4f}\\n \\n r2_score: {test_r2_score*100:.2f}\\n\")\n",
    "    \n",
    "    r2_list.append(test_r2_score)\n",
    "    \n",
    "    print(\"=\"*100)\n",
    "\n",
    "# IMPORTANT WHAT IS :.3f =>called as PRECISION SPECIFIER\n",
    "\n",
    "#The part of a format specifier such as :.2f or :.3f that follows the colon (:)\n",
    "# and precedes the f (which indicates that the value should be formatted as a floating-point number)\n",
    "# is called the precision specifier.\n",
    "\n",
    "# {train_mae:.3f} formats the value of train_mae to three decimal places.\n",
    "# {train_mse:.4f} formats the value of train_mse to four decimal places.\n",
    "# {train_rmse:.4f} formats the value of train_rmse to four decimal places.\n",
    "# {train_r2_score:.4f} formats the value of train_r2_score to four decimal places.\n",
    "# You can adjust the number after the colon (:) to specify the desired number of decimal places for each value.\n",
    "    \n",
    "    \n",
    "    "
   ]
  },
  {
   "cell_type": "code",
   "execution_count": 66,
   "metadata": {},
   "outputs": [
    {
     "name": "stdout",
     "output_type": "stream",
     "text": [
      "linear_Regression\n",
      "Rigde\n",
      "Lasso\n",
      "support_vector_machine\n",
      "Kneighbours_Regressor\n",
      "DecisionTreeRegressor\n",
      "RandomForestRegressor\n",
      "AdaBoostRegressor\n",
      "catboost\n",
      "xgboost\n"
     ]
    }
   ],
   "source": [
    "for i in model_list:\n",
    "    print(i)"
   ]
  },
  {
   "cell_type": "code",
   "execution_count": 67,
   "metadata": {},
   "outputs": [
    {
     "data": {
      "text/html": [
       "<div>\n",
       "<style scoped>\n",
       "    .dataframe tbody tr th:only-of-type {\n",
       "        vertical-align: middle;\n",
       "    }\n",
       "\n",
       "    .dataframe tbody tr th {\n",
       "        vertical-align: top;\n",
       "    }\n",
       "\n",
       "    .dataframe thead th {\n",
       "        text-align: right;\n",
       "    }\n",
       "</style>\n",
       "<table border=\"1\" class=\"dataframe\">\n",
       "  <thead>\n",
       "    <tr style=\"text-align: right;\">\n",
       "      <th></th>\n",
       "      <th>Model_Name</th>\n",
       "      <th>R2_score</th>\n",
       "    </tr>\n",
       "  </thead>\n",
       "  <tbody>\n",
       "    <tr>\n",
       "      <th>1</th>\n",
       "      <td>Rigde</td>\n",
       "      <td>0.880593</td>\n",
       "    </tr>\n",
       "    <tr>\n",
       "      <th>0</th>\n",
       "      <td>linear_Regression</td>\n",
       "      <td>0.880345</td>\n",
       "    </tr>\n",
       "    <tr>\n",
       "      <th>6</th>\n",
       "      <td>RandomForestRegressor</td>\n",
       "      <td>0.851709</td>\n",
       "    </tr>\n",
       "    <tr>\n",
       "      <th>8</th>\n",
       "      <td>catboost</td>\n",
       "      <td>0.851632</td>\n",
       "    </tr>\n",
       "    <tr>\n",
       "      <th>7</th>\n",
       "      <td>AdaBoostRegressor</td>\n",
       "      <td>0.847971</td>\n",
       "    </tr>\n",
       "    <tr>\n",
       "      <th>9</th>\n",
       "      <td>xgboost</td>\n",
       "      <td>0.827797</td>\n",
       "    </tr>\n",
       "    <tr>\n",
       "      <th>2</th>\n",
       "      <td>Lasso</td>\n",
       "      <td>0.825320</td>\n",
       "    </tr>\n",
       "    <tr>\n",
       "      <th>4</th>\n",
       "      <td>Kneighbours_Regressor</td>\n",
       "      <td>0.783813</td>\n",
       "    </tr>\n",
       "    <tr>\n",
       "      <th>5</th>\n",
       "      <td>DecisionTreeRegressor</td>\n",
       "      <td>0.766190</td>\n",
       "    </tr>\n",
       "    <tr>\n",
       "      <th>3</th>\n",
       "      <td>support_vector_machine</td>\n",
       "      <td>0.728600</td>\n",
       "    </tr>\n",
       "  </tbody>\n",
       "</table>\n",
       "</div>"
      ],
      "text/plain": [
       "               Model_Name  R2_score\n",
       "1                   Rigde  0.880593\n",
       "0       linear_Regression  0.880345\n",
       "6   RandomForestRegressor  0.851709\n",
       "8                catboost  0.851632\n",
       "7       AdaBoostRegressor  0.847971\n",
       "9                 xgboost  0.827797\n",
       "2                   Lasso  0.825320\n",
       "4   Kneighbours_Regressor  0.783813\n",
       "5   DecisionTreeRegressor  0.766190\n",
       "3  support_vector_machine  0.728600"
      ]
     },
     "execution_count": 67,
     "metadata": {},
     "output_type": "execute_result"
    }
   ],
   "source": [
    "pd.DataFrame(list(zip(model_list,r2_list)),columns=['Model_Name','R2_score']).sort_values(by='R2_score',ascending=False)"
   ]
  },
  {
   "cell_type": "markdown",
   "metadata": {},
   "source": [
    "* Inside the pd.DataFrame() constructor, you typically provide the data that you want to convert into a DataFrame. There are several common ways to provide data to create a DataFrame:\n",
    "\n",
    "From a Dictionary: You can pass a dictionary where keys are column names and values are the corresponding column data.\n",
    "python\n",
    "Copy code\n",
    "* data = {'Column1': [1, 2, 3], 'Column2': ['A', 'B', 'C']}\n",
    "* df = pd.DataFrame(data)\n",
    "\n",
    "From a List of Lists: You can pass a list of lists where each inner list represents a row of data.\n",
    "python\n",
    "Copy code\n",
    "* data = [[1, 'A'], [2, 'B'], [3, 'C']]\n",
    "* df = pd.DataFrame(data, columns=['Column1', 'Column2'])\n",
    "\n",
    "From a NumPy Array: You can pass a NumPy array containing your data.\n",
    "python\n",
    "Copy code\n",
    "import numpy as np\n",
    "* data = np.array([[1, 2], [3, 4], [5, 6]])\n",
    "* df = pd.DataFrame(data, columns=['Column1', 'Column2'])\n",
    "\n",
    "From a CSV or Other File: You can read data from a file using pd.read_csv() or other similar functions.\n",
    "python\n",
    "Copy code\n",
    "* df = pd.read_csv('data.csv')\n",
    "\n",
    "From a Series: You can pass one or more pandas Series objects.\n",
    "python\n",
    "Copy code\n",
    "s1 = pd.Series([1, 2, 3])\n",
    "s2 = pd.Series(['A', 'B', 'C'])\n",
    "df = pd.DataFrame({'Column1': s1, 'Column2': s2})\n",
    "\n",
    "These are some common ways to create a DataFrame using pd.DataFrame(), but there are also other methods depending on your specific use case."
   ]
  },
  {
   "cell_type": "markdown",
   "metadata": {},
   "source": [
    "* ##### Ridge is Giving better accuracy so go for ridge Model"
   ]
  },
  {
   "cell_type": "code",
   "execution_count": 68,
   "metadata": {},
   "outputs": [
    {
     "name": "stdout",
     "output_type": "stream",
     "text": [
      "Accuracy of the model is:88.059%\n"
     ]
    }
   ],
   "source": [
    "from sklearn.linear_model import Ridge\n",
    "from sklearn.metrics import r2_score\n",
    "\n",
    "model =Ridge()\n",
    "model.fit(x_train,y_train)\n",
    "y_pred=model.predict(x_test)\n",
    "score=r2_score(y_test,y_pred)*100\n",
    "print(f\"Accuracy of the model is:{score:.3f}%\")"
   ]
  },
  {
   "cell_type": "markdown",
   "metadata": {},
   "source": [
    "##### Plot Y_test and Y_pred"
   ]
  },
  {
   "cell_type": "code",
   "execution_count": 84,
   "metadata": {},
   "outputs": [
    {
     "data": {
      "image/png": "[encoded data removed]",
      "text/plain": [
       "<Figure size 640x480 with 1 Axes>"
      ]
     },
     "metadata": {},
     "output_type": "display_data"
    }
   ],
   "source": [
    "plt.scatter(y_test,y_pred)\n",
    "plt.xlabel('Actual')\n",
    "plt.ylabel('Predicted')\n",
    "plt.show()"
   ]
  },
  {
   "cell_type": "code",
   "execution_count": 92,
   "metadata": {},
   "outputs": [
    {
     "data": {
      "image/png": "[encoded data removed]",
      "text/plain": [
       "<Figure size 640x480 with 1 Axes>"
      ]
     },
     "metadata": {},
     "output_type": "display_data"
    }
   ],
   "source": [
    "#Chatgpt\n",
    "import matplotlib.pyplot as plt\n",
    "\n",
    "# Assuming y_test and y_pred are NumPy arrays or lists containing actual and predicted values\n",
    "\n",
    "# Your existing scatter plot for predicted values\n",
    "plt.scatter(y_test, y_pred, color='blue',label='Predicted')#label parameter is to show legend values  # Blue for predicted values \n",
    "\n",
    "# Scatter plot for actual values\n",
    "plt.scatter(y_test, y_test, color='red', label='Actual')  # Red for actual values\n",
    "\n",
    "# Customize labels and other plot properties\n",
    "plt.xlabel('Actual')\n",
    "plt.ylabel('Predicted')\n",
    "plt.legend()  # Show legend with labels for actual and predicted\n",
    "\n",
    "plt.show()\n"
   ]
  },
  {
   "cell_type": "markdown",
   "metadata": {},
   "source": [
    "#### Using Seaborn"
   ]
  },
  {
   "cell_type": "code",
   "execution_count": 94,
   "metadata": {},
   "outputs": [
    {
     "data": {
      "text/plain": [
       "<matplotlib.legend.Legend at 0x1c1701b6bb0>"
      ]
     },
     "execution_count": 94,
     "metadata": {},
     "output_type": "execute_result"
    },
    {
     "data": {
      "image/png": "[encoded data removed]",
      "text/plain": [
       "<Figure size 640x480 with 1 Axes>"
      ]
     },
     "metadata": {},
     "output_type": "display_data"
    }
   ],
   "source": [
    "sns.regplot(x=y_test,y=y_pred,scatter_kws={'color':'red'},line_kws={\"color\":\"blue\"},label='Predicted',color='red')\n",
    "plt.legend()"
   ]
  },
  {
   "cell_type": "code",
   "execution_count": 97,
   "metadata": {},
   "outputs": [
    {
     "ename": "ValueError",
     "evalue": "Per-column arrays must each be 1-dimensional",
     "output_type": "error",
     "traceback": [
      "\u001b[1;31m---------------------------------------------------------------------------\u001b[0m",
      "\u001b[1;31mValueError\u001b[0m                                Traceback (most recent call last)",
      "Cell \u001b[1;32mIn[97], line 1\u001b[0m\n\u001b[1;32m----> 1\u001b[0m pred_df\u001b[38;5;241m=\u001b[39m\u001b[43mpd\u001b[49m\u001b[38;5;241;43m.\u001b[39;49m\u001b[43mDataFrame\u001b[49m\u001b[43m(\u001b[49m\u001b[43m{\u001b[49m\u001b[38;5;124;43m\"\u001b[39;49m\u001b[38;5;124;43mActual_Values\u001b[39;49m\u001b[38;5;124;43m\"\u001b[39;49m\u001b[43m:\u001b[49m\u001b[43my_test\u001b[49m\u001b[43m,\u001b[49m\u001b[38;5;124;43m\"\u001b[39;49m\u001b[38;5;124;43mPredicted_Values\u001b[39;49m\u001b[38;5;124;43m\"\u001b[39;49m\u001b[43m:\u001b[49m\u001b[43my_pred\u001b[49m\u001b[43m,\u001b[49m\u001b[38;5;124;43m\"\u001b[39;49m\u001b[38;5;124;43mDifference\u001b[39;49m\u001b[38;5;124;43m\"\u001b[39;49m\u001b[43m:\u001b[49m\u001b[43my_test\u001b[49m\u001b[38;5;241;43m-\u001b[39;49m\u001b[43my_pred\u001b[49m\u001b[43m}\u001b[49m\u001b[43m)\u001b[49m\n\u001b[0;32m      2\u001b[0m pred_df\n",
      "File \u001b[1;32md:\\Project_1_krish_naik\\mlenv\\lib\\site-packages\\pandas\\core\\frame.py:709\u001b[0m, in \u001b[0;36mDataFrame.__init__\u001b[1;34m(self, data, index, columns, dtype, copy)\u001b[0m\n\u001b[0;32m    703\u001b[0m     mgr \u001b[38;5;241m=\u001b[39m \u001b[38;5;28mself\u001b[39m\u001b[38;5;241m.\u001b[39m_init_mgr(\n\u001b[0;32m    704\u001b[0m         data, axes\u001b[38;5;241m=\u001b[39m{\u001b[38;5;124m\"\u001b[39m\u001b[38;5;124mindex\u001b[39m\u001b[38;5;124m\"\u001b[39m: index, \u001b[38;5;124m\"\u001b[39m\u001b[38;5;124mcolumns\u001b[39m\u001b[38;5;124m\"\u001b[39m: columns}, dtype\u001b[38;5;241m=\u001b[39mdtype, copy\u001b[38;5;241m=\u001b[39mcopy\n\u001b[0;32m    705\u001b[0m     )\n\u001b[0;32m    707\u001b[0m \u001b[38;5;28;01melif\u001b[39;00m \u001b[38;5;28misinstance\u001b[39m(data, \u001b[38;5;28mdict\u001b[39m):\n\u001b[0;32m    708\u001b[0m     \u001b[38;5;66;03m# GH#38939 de facto copy defaults to False only in non-dict cases\u001b[39;00m\n\u001b[1;32m--> 709\u001b[0m     mgr \u001b[38;5;241m=\u001b[39m \u001b[43mdict_to_mgr\u001b[49m\u001b[43m(\u001b[49m\u001b[43mdata\u001b[49m\u001b[43m,\u001b[49m\u001b[43m \u001b[49m\u001b[43mindex\u001b[49m\u001b[43m,\u001b[49m\u001b[43m \u001b[49m\u001b[43mcolumns\u001b[49m\u001b[43m,\u001b[49m\u001b[43m \u001b[49m\u001b[43mdtype\u001b[49m\u001b[38;5;241;43m=\u001b[39;49m\u001b[43mdtype\u001b[49m\u001b[43m,\u001b[49m\u001b[43m \u001b[49m\u001b[43mcopy\u001b[49m\u001b[38;5;241;43m=\u001b[39;49m\u001b[43mcopy\u001b[49m\u001b[43m,\u001b[49m\u001b[43m \u001b[49m\u001b[43mtyp\u001b[49m\u001b[38;5;241;43m=\u001b[39;49m\u001b[43mmanager\u001b[49m\u001b[43m)\u001b[49m\n\u001b[0;32m    710\u001b[0m \u001b[38;5;28;01melif\u001b[39;00m \u001b[38;5;28misinstance\u001b[39m(data, ma\u001b[38;5;241m.\u001b[39mMaskedArray):\n\u001b[0;32m    711\u001b[0m     \u001b[38;5;28;01mfrom\u001b[39;00m \u001b[38;5;21;01mnumpy\u001b[39;00m\u001b[38;5;21;01m.\u001b[39;00m\u001b[38;5;21;01mma\u001b[39;00m \u001b[38;5;28;01mimport\u001b[39;00m mrecords\n",
      "File \u001b[1;32md:\\Project_1_krish_naik\\mlenv\\lib\\site-packages\\pandas\\core\\internals\\construction.py:481\u001b[0m, in \u001b[0;36mdict_to_mgr\u001b[1;34m(data, index, columns, dtype, typ, copy)\u001b[0m\n\u001b[0;32m    477\u001b[0m     \u001b[38;5;28;01melse\u001b[39;00m:\n\u001b[0;32m    478\u001b[0m         \u001b[38;5;66;03m# dtype check to exclude e.g. range objects, scalars\u001b[39;00m\n\u001b[0;32m    479\u001b[0m         arrays \u001b[38;5;241m=\u001b[39m [x\u001b[38;5;241m.\u001b[39mcopy() \u001b[38;5;28;01mif\u001b[39;00m \u001b[38;5;28mhasattr\u001b[39m(x, \u001b[38;5;124m\"\u001b[39m\u001b[38;5;124mdtype\u001b[39m\u001b[38;5;124m\"\u001b[39m) \u001b[38;5;28;01melse\u001b[39;00m x \u001b[38;5;28;01mfor\u001b[39;00m x \u001b[38;5;129;01min\u001b[39;00m arrays]\n\u001b[1;32m--> 481\u001b[0m \u001b[38;5;28;01mreturn\u001b[39;00m \u001b[43marrays_to_mgr\u001b[49m\u001b[43m(\u001b[49m\u001b[43marrays\u001b[49m\u001b[43m,\u001b[49m\u001b[43m \u001b[49m\u001b[43mcolumns\u001b[49m\u001b[43m,\u001b[49m\u001b[43m \u001b[49m\u001b[43mindex\u001b[49m\u001b[43m,\u001b[49m\u001b[43m \u001b[49m\u001b[43mdtype\u001b[49m\u001b[38;5;241;43m=\u001b[39;49m\u001b[43mdtype\u001b[49m\u001b[43m,\u001b[49m\u001b[43m \u001b[49m\u001b[43mtyp\u001b[49m\u001b[38;5;241;43m=\u001b[39;49m\u001b[43mtyp\u001b[49m\u001b[43m,\u001b[49m\u001b[43m \u001b[49m\u001b[43mconsolidate\u001b[49m\u001b[38;5;241;43m=\u001b[39;49m\u001b[43mcopy\u001b[49m\u001b[43m)\u001b[49m\n",
      "File \u001b[1;32md:\\Project_1_krish_naik\\mlenv\\lib\\site-packages\\pandas\\core\\internals\\construction.py:115\u001b[0m, in \u001b[0;36marrays_to_mgr\u001b[1;34m(arrays, columns, index, dtype, verify_integrity, typ, consolidate)\u001b[0m\n\u001b[0;32m    112\u001b[0m \u001b[38;5;28;01mif\u001b[39;00m verify_integrity:\n\u001b[0;32m    113\u001b[0m     \u001b[38;5;66;03m# figure out the index, if necessary\u001b[39;00m\n\u001b[0;32m    114\u001b[0m     \u001b[38;5;28;01mif\u001b[39;00m index \u001b[38;5;129;01mis\u001b[39;00m \u001b[38;5;28;01mNone\u001b[39;00m:\n\u001b[1;32m--> 115\u001b[0m         index \u001b[38;5;241m=\u001b[39m \u001b[43m_extract_index\u001b[49m\u001b[43m(\u001b[49m\u001b[43marrays\u001b[49m\u001b[43m)\u001b[49m\n\u001b[0;32m    116\u001b[0m     \u001b[38;5;28;01melse\u001b[39;00m:\n\u001b[0;32m    117\u001b[0m         index \u001b[38;5;241m=\u001b[39m ensure_index(index)\n",
      "File \u001b[1;32md:\\Project_1_krish_naik\\mlenv\\lib\\site-packages\\pandas\\core\\internals\\construction.py:642\u001b[0m, in \u001b[0;36m_extract_index\u001b[1;34m(data)\u001b[0m\n\u001b[0;32m    640\u001b[0m         raw_lengths\u001b[38;5;241m.\u001b[39mappend(\u001b[38;5;28mlen\u001b[39m(val))\n\u001b[0;32m    641\u001b[0m     \u001b[38;5;28;01melif\u001b[39;00m \u001b[38;5;28misinstance\u001b[39m(val, np\u001b[38;5;241m.\u001b[39mndarray) \u001b[38;5;129;01mand\u001b[39;00m val\u001b[38;5;241m.\u001b[39mndim \u001b[38;5;241m>\u001b[39m \u001b[38;5;241m1\u001b[39m:\n\u001b[1;32m--> 642\u001b[0m         \u001b[38;5;28;01mraise\u001b[39;00m \u001b[38;5;167;01mValueError\u001b[39;00m(\u001b[38;5;124m\"\u001b[39m\u001b[38;5;124mPer-column arrays must each be 1-dimensional\u001b[39m\u001b[38;5;124m\"\u001b[39m)\n\u001b[0;32m    644\u001b[0m \u001b[38;5;28;01mif\u001b[39;00m \u001b[38;5;129;01mnot\u001b[39;00m indexes \u001b[38;5;129;01mand\u001b[39;00m \u001b[38;5;129;01mnot\u001b[39;00m raw_lengths:\n\u001b[0;32m    645\u001b[0m     \u001b[38;5;28;01mraise\u001b[39;00m \u001b[38;5;167;01mValueError\u001b[39;00m(\u001b[38;5;124m\"\u001b[39m\u001b[38;5;124mIf using all scalar values, you must pass an index\u001b[39m\u001b[38;5;124m\"\u001b[39m)\n",
      "\u001b[1;31mValueError\u001b[0m: Per-column arrays must each be 1-dimensional"
     ]
    }
   ],
   "source": [
    "# pred_df=pd.DataFrame({\"Actual_Values\":y_test,\"Predicted_Values\":y_pred,\"Difference\":y_test-y_pred})\n",
    "# pred_df"
   ]
  },
  {
   "cell_type": "markdown",
   "metadata": {},
   "source": [
    "The error you're encountering indicates that one or more of the arrays you're passing to pd.DataFrame() are not one-dimensional. When creating a DataFrame using a dictionary, each value should be a one-dimensional array, but it seems one of your arrays might be multidimensional.\n",
    "\n",
    "To resolve this issue, ensure that y_test, y_pred, and y_test - y_pred are all one-dimensional arrays or lists before passing them to pd.DataFrame(). You can do this by flattening any multidimensional arrays or reshaping them if necessary.\n",
    "\n"
   ]
  },
  {
   "cell_type": "code",
   "execution_count": 99,
   "metadata": {},
   "outputs": [
    {
     "data": {
      "text/html": [
       "<div>\n",
       "<style scoped>\n",
       "    .dataframe tbody tr th:only-of-type {\n",
       "        vertical-align: middle;\n",
       "    }\n",
       "\n",
       "    .dataframe tbody tr th {\n",
       "        vertical-align: top;\n",
       "    }\n",
       "\n",
       "    .dataframe thead th {\n",
       "        text-align: right;\n",
       "    }\n",
       "</style>\n",
       "<table border=\"1\" class=\"dataframe\">\n",
       "  <thead>\n",
       "    <tr style=\"text-align: right;\">\n",
       "      <th></th>\n",
       "      <th>Actual Values</th>\n",
       "      <th>Predicted values</th>\n",
       "      <th>Difference</th>\n",
       "    </tr>\n",
       "  </thead>\n",
       "  <tbody>\n",
       "    <tr>\n",
       "      <th>0</th>\n",
       "      <td>91</td>\n",
       "      <td>76.398705</td>\n",
       "      <td>14.601295</td>\n",
       "    </tr>\n",
       "    <tr>\n",
       "      <th>1</th>\n",
       "      <td>53</td>\n",
       "      <td>58.842469</td>\n",
       "      <td>-5.842469</td>\n",
       "    </tr>\n",
       "    <tr>\n",
       "      <th>2</th>\n",
       "      <td>80</td>\n",
       "      <td>76.992129</td>\n",
       "      <td>3.007871</td>\n",
       "    </tr>\n",
       "    <tr>\n",
       "      <th>3</th>\n",
       "      <td>74</td>\n",
       "      <td>76.805898</td>\n",
       "      <td>-2.805898</td>\n",
       "    </tr>\n",
       "    <tr>\n",
       "      <th>4</th>\n",
       "      <td>84</td>\n",
       "      <td>87.615387</td>\n",
       "      <td>-3.615387</td>\n",
       "    </tr>\n",
       "    <tr>\n",
       "      <th>...</th>\n",
       "      <td>...</td>\n",
       "      <td>...</td>\n",
       "      <td>...</td>\n",
       "    </tr>\n",
       "    <tr>\n",
       "      <th>195</th>\n",
       "      <td>52</td>\n",
       "      <td>43.492293</td>\n",
       "      <td>8.507707</td>\n",
       "    </tr>\n",
       "    <tr>\n",
       "      <th>196</th>\n",
       "      <td>62</td>\n",
       "      <td>62.170763</td>\n",
       "      <td>-0.170763</td>\n",
       "    </tr>\n",
       "    <tr>\n",
       "      <th>197</th>\n",
       "      <td>74</td>\n",
       "      <td>67.910325</td>\n",
       "      <td>6.089675</td>\n",
       "    </tr>\n",
       "    <tr>\n",
       "      <th>198</th>\n",
       "      <td>65</td>\n",
       "      <td>67.061504</td>\n",
       "      <td>-2.061504</td>\n",
       "    </tr>\n",
       "    <tr>\n",
       "      <th>199</th>\n",
       "      <td>61</td>\n",
       "      <td>62.427189</td>\n",
       "      <td>-1.427189</td>\n",
       "    </tr>\n",
       "  </tbody>\n",
       "</table>\n",
       "<p>200 rows × 3 columns</p>\n",
       "</div>"
      ],
      "text/plain": [
       "     Actual Values  Predicted values  Difference\n",
       "0               91         76.398705   14.601295\n",
       "1               53         58.842469   -5.842469\n",
       "2               80         76.992129    3.007871\n",
       "3               74         76.805898   -2.805898\n",
       "4               84         87.615387   -3.615387\n",
       "..             ...               ...         ...\n",
       "195             52         43.492293    8.507707\n",
       "196             62         62.170763   -0.170763\n",
       "197             74         67.910325    6.089675\n",
       "198             65         67.061504   -2.061504\n",
       "199             61         62.427189   -1.427189\n",
       "\n",
       "[200 rows x 3 columns]"
      ]
     },
     "execution_count": 99,
     "metadata": {},
     "output_type": "execute_result"
    }
   ],
   "source": [
    "y_test= np.array(y_test).flatten()\n",
    "y_pred=np.array(y_pred).flatten()\n",
    "difference=y_test-y_pred\n",
    "prediction_df=pd.DataFrame(list(zip(y_test,y_pred,difference)),columns=['Actual Values',\"Predicted values\",'Difference'])\n",
    "prediction_df"
   ]
  },
  {
   "cell_type": "code",
   "execution_count": 104,
   "metadata": {},
   "outputs": [
    {
     "name": "stdout",
     "output_type": "stream",
     "text": [
      "0 Actual value:91.0\t Predicted_value:76.39870549583675\t Difference:14.60129450416325\n",
      "1 Actual value:53.0\t Predicted_value:58.84246852339133\t Difference:-5.842468523391332\n",
      "2 Actual value:80.0\t Predicted_value:76.99212918627023\t Difference:3.0078708137297667\n",
      "3 Actual value:74.0\t Predicted_value:76.80589763945441\t Difference:-2.8058976394544146\n",
      "4 Actual value:84.0\t Predicted_value:87.61538748633225\t Difference:-3.615387486332253\n",
      "5 Actual value:81.0\t Predicted_value:78.9154496813047\t Difference:2.0845503186953067\n",
      "6 Actual value:69.0\t Predicted_value:64.71522731240744\t Difference:4.2847726875925645\n",
      "7 Actual value:54.0\t Predicted_value:53.04476090506876\t Difference:0.9552390949312368\n",
      "8 Actual value:87.0\t Predicted_value:74.11589981527612\t Difference:12.884100184723877\n",
      "9 Actual value:51.0\t Predicted_value:49.36684719541292\t Difference:1.633152804587077\n",
      "10 Actual value:45.0\t Predicted_value:52.86364945363178\t Difference:-7.86364945363178\n",
      "11 Actual value:30.0\t Predicted_value:36.665863287186845\t Difference:-6.665863287186845\n",
      "12 Actual value:67.0\t Predicted_value:67.9001002704411\t Difference:-0.9001002704411007\n",
      "13 Actual value:49.0\t Predicted_value:52.3463716906349\t Difference:-3.3463716906349035\n",
      "14 Actual value:85.0\t Predicted_value:86.66674368908045\t Difference:-1.6667436890804481\n",
      "15 Actual value:65.0\t Predicted_value:70.5310230178201\t Difference:-5.531023017820104\n",
      "16 Actual value:53.0\t Predicted_value:52.052613298147435\t Difference:0.9473867018525652\n",
      "17 Actual value:55.0\t Predicted_value:46.87367571541229\t Difference:8.12632428458771\n",
      "18 Actual value:48.0\t Predicted_value:48.902173164674466\t Difference:-0.9021731646744655\n",
      "19 Actual value:56.0\t Predicted_value:52.7782098167616\t Difference:3.2217901832383973\n",
      "20 Actual value:79.0\t Predicted_value:73.90330353503873\t Difference:5.096696464961269\n",
      "21 Actual value:43.0\t Predicted_value:38.9608574397033\t Difference:4.039142560296703\n",
      "22 Actual value:45.0\t Predicted_value:57.456654734474874\t Difference:-12.456654734474874\n",
      "23 Actual value:36.0\t Predicted_value:36.45000984527542\t Difference:-0.4500098452754173\n",
      "24 Actual value:80.0\t Predicted_value:78.10707214491384\t Difference:1.8929278550861568\n",
      "25 Actual value:80.0\t Predicted_value:81.73401288019434\t Difference:-1.7340128801943422\n",
      "26 Actual value:68.0\t Predicted_value:75.42961863123139\t Difference:-7.429618631231392\n",
      "27 Actual value:40.0\t Predicted_value:46.25195917476691\t Difference:-6.25195917476691\n",
      "28 Actual value:34.0\t Predicted_value:31.189203879123838\t Difference:2.8107961208761623\n",
      "29 Actual value:49.0\t Predicted_value:49.90794332977158\t Difference:-0.9079433297715767\n",
      "30 Actual value:62.0\t Predicted_value:65.9793611009762\t Difference:-3.979361100976206\n",
      "31 Actual value:71.0\t Predicted_value:70.34584992528013\t Difference:0.6541500747198654\n",
      "32 Actual value:62.0\t Predicted_value:60.54916026004334\t Difference:1.4508397399566633\n",
      "33 Actual value:76.0\t Predicted_value:83.61763373020278\t Difference:-7.617633730202783\n",
      "34 Actual value:84.0\t Predicted_value:84.38596058814562\t Difference:-0.38596058814562184\n",
      "35 Actual value:45.0\t Predicted_value:46.05747314158751\t Difference:-1.0574731415875078\n",
      "36 Actual value:77.0\t Predicted_value:76.09690005503688\t Difference:0.9030999449631167\n",
      "37 Actual value:69.0\t Predicted_value:70.2241548386426\t Difference:-1.2241548386426047\n",
      "38 Actual value:73.0\t Predicted_value:65.94711956991867\t Difference:7.052880430081331\n",
      "39 Actual value:0.0\t Predicted_value:3.90694796459762\t Difference:-3.90694796459762\n",
      "40 Actual value:82.0\t Predicted_value:78.46548198659819\t Difference:3.534518013401808\n",
      "41 Actual value:65.0\t Predicted_value:67.27292319363252\t Difference:-2.272923193632522\n",
      "42 Actual value:67.0\t Predicted_value:67.95257933877289\t Difference:-0.9525793387728925\n",
      "43 Actual value:54.0\t Predicted_value:60.246268691283056\t Difference:-6.246268691283056\n",
      "44 Actual value:90.0\t Predicted_value:79.740389384915\t Difference:10.259610615084995\n",
      "45 Actual value:59.0\t Predicted_value:67.46247193706755\t Difference:-8.462471937067548\n",
      "46 Actual value:74.0\t Predicted_value:72.17873702907255\t Difference:1.8212629709274495\n",
      "47 Actual value:29.0\t Predicted_value:24.807841415987482\t Difference:4.1921585840125175\n",
      "48 Actual value:89.0\t Predicted_value:85.9925526982324\t Difference:3.0074473017675984\n",
      "49 Actual value:75.0\t Predicted_value:70.15151182132358\t Difference:4.848488178676419\n",
      "50 Actual value:71.0\t Predicted_value:75.45245989977279\t Difference:-4.452459899772791\n",
      "51 Actual value:64.0\t Predicted_value:66.85074942502266\t Difference:-2.8507494250226557\n",
      "52 Actual value:79.0\t Predicted_value:81.15547981077648\t Difference:-2.155479810776484\n",
      "53 Actual value:48.0\t Predicted_value:45.70002355556347\t Difference:2.299976444436531\n",
      "54 Actual value:69.0\t Predicted_value:66.08892273781557\t Difference:2.9110772621844347\n",
      "55 Actual value:69.0\t Predicted_value:67.34899236670734\t Difference:1.6510076332926644\n",
      "56 Actual value:88.0\t Predicted_value:86.05435071314801\t Difference:1.9456492868519888\n",
      "57 Actual value:58.0\t Predicted_value:58.725100691909006\t Difference:-0.725100691909006\n",
      "58 Actual value:87.0\t Predicted_value:82.29535887983126\t Difference:4.704641120168745\n",
      "59 Actual value:85.0\t Predicted_value:81.20092755358064\t Difference:3.799072446419359\n",
      "60 Actual value:46.0\t Predicted_value:47.234735408686326\t Difference:-1.2347354086863263\n",
      "61 Actual value:71.0\t Predicted_value:72.0034379026134\t Difference:-1.003437902613399\n",
      "62 Actual value:81.0\t Predicted_value:70.62007412913246\t Difference:10.379925870867538\n",
      "63 Actual value:58.0\t Predicted_value:55.859715103574416\t Difference:2.140284896425584\n",
      "64 Actual value:84.0\t Predicted_value:86.31577649161935\t Difference:-2.3157764916193457\n",
      "65 Actual value:66.0\t Predicted_value:63.85062577364199\t Difference:2.149374226358013\n",
      "66 Actual value:55.0\t Predicted_value:59.520124659056236\t Difference:-4.520124659056236\n",
      "67 Actual value:59.0\t Predicted_value:55.85023085246914\t Difference:3.1497691475308613\n",
      "68 Actual value:58.0\t Predicted_value:57.16098082324082\t Difference:0.8390191767591801\n",
      "69 Actual value:82.0\t Predicted_value:82.21325569817787\t Difference:-0.21325569817787482\n",
      "70 Actual value:66.0\t Predicted_value:71.72633184865865\t Difference:-5.726331848658646\n",
      "71 Actual value:81.0\t Predicted_value:80.4723698504207\t Difference:0.527630149579295\n",
      "72 Actual value:58.0\t Predicted_value:58.34986183882794\t Difference:-0.3498618388279411\n",
      "73 Actual value:37.0\t Predicted_value:46.41550657644644\t Difference:-9.41550657644644\n",
      "74 Actual value:63.0\t Predicted_value:61.25692616135911\t Difference:1.743073838640889\n",
      "75 Actual value:77.0\t Predicted_value:84.9111958228591\t Difference:-7.911195822859099\n",
      "76 Actual value:85.0\t Predicted_value:84.15759834379378\t Difference:0.8424016562062207\n",
      "77 Actual value:57.0\t Predicted_value:60.22412659953856\t Difference:-3.2241265995385575\n",
      "78 Actual value:48.0\t Predicted_value:59.29709779923157\t Difference:-11.297097799231572\n",
      "79 Actual value:51.0\t Predicted_value:53.26386823278075\t Difference:-2.2638682327807516\n",
      "80 Actual value:63.0\t Predicted_value:63.64275866159593\t Difference:-0.6427586615959271\n",
      "81 Actual value:45.0\t Predicted_value:41.08740959577926\t Difference:3.9125904042207367\n",
      "82 Actual value:83.0\t Predicted_value:78.9012917547573\t Difference:4.098708245242705\n",
      "83 Actual value:60.0\t Predicted_value:66.81972657433107\t Difference:-6.819726574331071\n",
      "84 Actual value:63.0\t Predicted_value:75.30510745774605\t Difference:-12.305107457746047\n",
      "85 Actual value:62.0\t Predicted_value:54.849432800234425\t Difference:7.150567199765575\n",
      "86 Actual value:68.0\t Predicted_value:67.23821625905299\t Difference:0.7617837409470098\n",
      "87 Actual value:60.0\t Predicted_value:63.80539035770076\t Difference:-3.805390357700759\n",
      "88 Actual value:77.0\t Predicted_value:75.59032795944589\t Difference:1.4096720405541134\n",
      "89 Actual value:28.0\t Predicted_value:25.681574652826434\t Difference:2.318425347173566\n",
      "90 Actual value:79.0\t Predicted_value:74.01651565375181\t Difference:4.98348434624819\n",
      "91 Actual value:100.0\t Predicted_value:93.59583218613605\t Difference:6.40416781386395\n",
      "92 Actual value:69.0\t Predicted_value:62.61631682659383\t Difference:6.383683173406169\n",
      "93 Actual value:66.0\t Predicted_value:75.55863265497729\t Difference:-9.558632654977288\n",
      "94 Actual value:19.0\t Predicted_value:29.518225894873055\t Difference:-10.518225894873055\n",
      "95 Actual value:75.0\t Predicted_value:70.75501637202638\t Difference:4.244983627973625\n",
      "96 Actual value:60.0\t Predicted_value:66.95466881722498\t Difference:-6.954668817224984\n",
      "97 Actual value:58.0\t Predicted_value:61.972983039870996\t Difference:-3.9729830398709964\n",
      "98 Actual value:69.0\t Predicted_value:65.66638246603848\t Difference:3.3336175339615153\n",
      "99 Actual value:56.0\t Predicted_value:55.23169744420227\t Difference:0.7683025557977317\n",
      "100 Actual value:73.0\t Predicted_value:75.64693236033037\t Difference:-2.646932360330368\n",
      "101 Actual value:66.0\t Predicted_value:65.92992478751916\t Difference:0.07007521248084458\n",
      "102 Actual value:67.0\t Predicted_value:60.80543664750055\t Difference:6.194563352499451\n",
      "103 Actual value:64.0\t Predicted_value:58.27424886945934\t Difference:5.725751130540658\n",
      "104 Actual value:71.0\t Predicted_value:73.72982076490968\t Difference:-2.7298207649096753\n",
      "105 Actual value:70.0\t Predicted_value:69.01168800295198\t Difference:0.9883119970480152\n",
      "106 Actual value:53.0\t Predicted_value:53.43768500135396\t Difference:-0.4376850013539624\n",
      "107 Actual value:75.0\t Predicted_value:79.80993169121828\t Difference:-4.8099316912182815\n",
      "108 Actual value:68.0\t Predicted_value:70.0352558798891\t Difference:-2.0352558798891067\n",
      "109 Actual value:44.0\t Predicted_value:48.35910099387659\t Difference:-4.359100993876588\n",
      "110 Actual value:29.0\t Predicted_value:34.78065546367469\t Difference:-5.780655463674691\n",
      "111 Actual value:71.0\t Predicted_value:73.57114068926376\t Difference:-2.571140689263757\n",
      "112 Actual value:57.0\t Predicted_value:60.93919063965258\t Difference:-3.9391906396525798\n",
      "113 Actual value:45.0\t Predicted_value:55.44287616674622\t Difference:-10.442876166746217\n",
      "114 Actual value:76.0\t Predicted_value:75.96685379708822\t Difference:0.033146202911780165\n",
      "115 Actual value:61.0\t Predicted_value:62.25567053556945\t Difference:-1.2556705355694504\n",
      "116 Actual value:45.0\t Predicted_value:50.059549025033334\t Difference:-5.059549025033334\n",
      "117 Actual value:55.0\t Predicted_value:50.37687705177368\t Difference:4.623122948226317\n",
      "118 Actual value:73.0\t Predicted_value:72.45948195667458\t Difference:0.5405180433254202\n",
      "119 Actual value:78.0\t Predicted_value:78.50169345473043\t Difference:-0.5016934547304288\n",
      "120 Actual value:50.0\t Predicted_value:59.620321592618524\t Difference:-9.620321592618524\n",
      "121 Actual value:62.0\t Predicted_value:53.51551382401286\t Difference:8.484486175987143\n",
      "122 Actual value:81.0\t Predicted_value:86.83499386013374\t Difference:-5.834993860133736\n",
      "123 Actual value:64.0\t Predicted_value:63.652930388011\t Difference:0.3470696119889993\n",
      "124 Actual value:64.0\t Predicted_value:60.39718830896231\t Difference:3.6028116910376866\n",
      "125 Actual value:73.0\t Predicted_value:69.56406798655044\t Difference:3.435932013449559\n",
      "126 Actual value:73.0\t Predicted_value:67.64174796234596\t Difference:5.35825203765404\n",
      "127 Actual value:67.0\t Predicted_value:65.94984020732751\t Difference:1.0501597926724884\n",
      "128 Actual value:61.0\t Predicted_value:48.91355091712152\t Difference:12.086449082878481\n",
      "129 Actual value:67.0\t Predicted_value:72.29253551519454\t Difference:-5.292535515194544\n",
      "130 Actual value:65.0\t Predicted_value:74.03861497698287\t Difference:-9.03861497698287\n",
      "131 Actual value:80.0\t Predicted_value:76.04030078199125\t Difference:3.959699218008751\n",
      "132 Actual value:59.0\t Predicted_value:45.16763303672934\t Difference:13.832366963270658\n",
      "133 Actual value:88.0\t Predicted_value:88.31385857758326\t Difference:-0.31385857758326097\n",
      "134 Actual value:62.0\t Predicted_value:63.47462758354486\t Difference:-1.4746275835448586\n",
      "135 Actual value:33.0\t Predicted_value:33.48992810483895\t Difference:-0.48992810483895255\n",
      "136 Actual value:79.0\t Predicted_value:77.51473769366483\t Difference:1.4852623063351729\n",
      "137 Actual value:84.0\t Predicted_value:80.71865448549755\t Difference:3.2813455145024477\n",
      "138 Actual value:73.0\t Predicted_value:73.63011682564631\t Difference:-0.6301168256463114\n",
      "139 Actual value:41.0\t Predicted_value:39.24175360802511\t Difference:1.7582463919748932\n",
      "140 Actual value:50.0\t Predicted_value:49.59001732739588\t Difference:0.4099826726041229\n",
      "141 Actual value:58.0\t Predicted_value:59.71136053832905\t Difference:-1.7113605383290533\n",
      "142 Actual value:55.0\t Predicted_value:58.93932233201199\t Difference:-3.93932233201199\n",
      "143 Actual value:45.0\t Predicted_value:53.912775433770165\t Difference:-8.912775433770165\n",
      "144 Actual value:88.0\t Predicted_value:77.55712591512881\t Difference:10.442874084871193\n",
      "145 Actual value:46.0\t Predicted_value:47.039271070121075\t Difference:-1.0392710701210746\n",
      "146 Actual value:51.0\t Predicted_value:43.018614597020886\t Difference:7.9813854029791145\n",
      "147 Actual value:75.0\t Predicted_value:76.5194538994358\t Difference:-1.5194538994358027\n",
      "148 Actual value:49.0\t Predicted_value:57.221954114270886\t Difference:-8.221954114270886\n",
      "149 Actual value:75.0\t Predicted_value:79.21543004663164\t Difference:-4.215430046631639\n",
      "150 Actual value:74.0\t Predicted_value:74.96781765235977\t Difference:-0.9678176523597699\n",
      "151 Actual value:61.0\t Predicted_value:76.27862157538183\t Difference:-15.278621575381834\n",
      "152 Actual value:62.0\t Predicted_value:65.70879302762809\t Difference:-3.70879302762809\n",
      "153 Actual value:68.0\t Predicted_value:59.564139406436354\t Difference:8.435860593563646\n",
      "154 Actual value:78.0\t Predicted_value:84.8475018944202\t Difference:-6.847501894420205\n",
      "155 Actual value:71.0\t Predicted_value:73.2230214042194\t Difference:-2.223021404219395\n",
      "156 Actual value:49.0\t Predicted_value:43.87804870486957\t Difference:5.12195129513043\n",
      "157 Actual value:59.0\t Predicted_value:62.91991545920472\t Difference:-3.9199154592047165\n",
      "158 Actual value:79.0\t Predicted_value:75.9132083219557\t Difference:3.0867916780443068\n",
      "159 Actual value:51.0\t Predicted_value:51.88692714671239\t Difference:-0.886927146712388\n",
      "160 Actual value:56.0\t Predicted_value:62.20884426617707\t Difference:-6.208844266177067\n",
      "161 Actual value:76.0\t Predicted_value:65.03905550988354\t Difference:10.96094449011646\n",
      "162 Actual value:69.0\t Predicted_value:70.33174578652425\t Difference:-1.3317457865242517\n",
      "163 Actual value:51.0\t Predicted_value:53.893098987613705\t Difference:-2.8930989876137048\n",
      "164 Actual value:82.0\t Predicted_value:89.0485592042763\t Difference:-7.048559204276302\n",
      "165 Actual value:73.0\t Predicted_value:71.05558626820569\t Difference:1.944413731794313\n",
      "166 Actual value:40.0\t Predicted_value:49.4674764213711\t Difference:-9.467476421371103\n",
      "167 Actual value:93.0\t Predicted_value:92.60300674309141\t Difference:0.396993256908587\n",
      "168 Actual value:59.0\t Predicted_value:60.643884127457646\t Difference:-1.6438841274576461\n",
      "169 Actual value:73.0\t Predicted_value:72.06250076371639\t Difference:0.9374992362836139\n",
      "170 Actual value:85.0\t Predicted_value:83.10047000069342\t Difference:1.89952999930658\n",
      "171 Actual value:76.0\t Predicted_value:79.06747377040176\t Difference:-3.0674737704017616\n",
      "172 Actual value:77.0\t Predicted_value:80.37575166931377\t Difference:-3.3757516693137717\n",
      "173 Actual value:67.0\t Predicted_value:69.95161094849793\t Difference:-2.9516109484979296\n",
      "174 Actual value:61.0\t Predicted_value:57.3424739153185\t Difference:3.6575260846815\n",
      "175 Actual value:27.0\t Predicted_value:23.794024202577972\t Difference:3.2059757974220275\n",
      "176 Actual value:54.0\t Predicted_value:59.16975342090131\t Difference:-5.1697534209013085\n",
      "177 Actual value:65.0\t Predicted_value:64.90624882183114\t Difference:0.09375117816885847\n",
      "178 Actual value:87.0\t Predicted_value:91.67416121990061\t Difference:-4.674161219900611\n",
      "179 Actual value:70.0\t Predicted_value:67.21151402200977\t Difference:2.7884859779902342\n",
      "180 Actual value:54.0\t Predicted_value:61.46393172607014\t Difference:-7.463931726070143\n",
      "181 Actual value:66.0\t Predicted_value:59.91635015466333\t Difference:6.083649845336673\n",
      "182 Actual value:85.0\t Predicted_value:81.91816258787622\t Difference:3.0818374121237753\n",
      "183 Actual value:56.0\t Predicted_value:60.10846446538994\t Difference:-4.108464465389943\n",
      "184 Actual value:90.0\t Predicted_value:93.25898270005267\t Difference:-3.2589827000526697\n",
      "185 Actual value:70.0\t Predicted_value:68.1939248315521\t Difference:1.8060751684479044\n",
      "186 Actual value:61.0\t Predicted_value:63.268700051675914\t Difference:-2.268700051675914\n",
      "187 Actual value:49.0\t Predicted_value:58.58125226686583\t Difference:-9.581252266865832\n",
      "188 Actual value:81.0\t Predicted_value:71.127831429745\t Difference:9.872168570254999\n",
      "189 Actual value:87.0\t Predicted_value:89.05994540150635\t Difference:-2.0599454015063543\n",
      "190 Actual value:49.0\t Predicted_value:52.678730205798324\t Difference:-3.678730205798324\n",
      "191 Actual value:68.0\t Predicted_value:61.14002740067689\t Difference:6.8599725993231075\n",
      "192 Actual value:77.0\t Predicted_value:66.94214684685478\t Difference:10.057853153145217\n",
      "193 Actual value:78.0\t Predicted_value:65.73542126275113\t Difference:12.264578737248868\n",
      "194 Actual value:60.0\t Predicted_value:54.06904703677708\t Difference:5.930952963222921\n",
      "195 Actual value:52.0\t Predicted_value:43.492292696011795\t Difference:8.507707303988205\n",
      "196 Actual value:62.0\t Predicted_value:62.17076336504144\t Difference:-0.17076336504143796\n",
      "197 Actual value:74.0\t Predicted_value:67.9103247937224\t Difference:6.0896752062776045\n",
      "198 Actual value:65.0\t Predicted_value:67.06150406775552\t Difference:-2.0615040677555214\n",
      "199 Actual value:61.0\t Predicted_value:62.42718898158741\t Difference:-1.4271889815874133\n"
     ]
    }
   ],
   "source": [
    "#Iterate through Dataframe and print all the values\n",
    "\n",
    "for index,row in prediction_df.iterrows():\n",
    "    print(f\"{index} Actual value:{row['Actual Values']}\\t Predicted_value:{row['Predicted values']}\\t Difference:{row['Difference']}\")"
   ]
  },
  {
   "cell_type": "code",
   "execution_count": null,
   "metadata": {},
   "outputs": [],
   "source": []
  }
 ],
 "metadata": {
  "kernelspec": {
   "display_name": "Python 3",
   "language": "python",
   "name": "python3"
  },
  "language_info": {
   "codemirror_mode": {
    "name": "ipython",
    "version": 3
   },
   "file_extension": ".py",
   "mimetype": "text/x-python",
   "name": "python",
   "nbconvert_exporter": "python",
   "pygments_lexer": "ipython3",
   "version": "3.8.7"
  }
 },
 "nbformat": 4,
 "nbformat_minor": 2
}
